{
  "cells": [
    {
      "cell_type": "code",
      "execution_count": 26,
      "metadata": {
        "id": "tGWTZyK3VbSq"
      },
      "outputs": [],
      "source": [
        "import numpy as np\n",
        "import torchvision.datasets as datasets\n",
        "from sklearn.preprocessing import OneHotEncoder"
      ]
    },
    {
      "cell_type": "code",
      "source": [
        "train_dataset = datasets.MNIST(root='./data', train=True, download=True, transform=None)\n",
        "test_dataset = datasets.MNIST(root='./data', train=False, download=True, transform=None)"
      ],
      "metadata": {
        "id": "yb14VBeJZPsH"
      },
      "execution_count": 32,
      "outputs": []
    },
    {
      "cell_type": "code",
      "source": [
        "train_data = train_dataset.data\n",
        "train_labels = train_dataset.targets\n",
        "test_data = test_dataset.data\n",
        "test_labels = test_dataset.targets"
      ],
      "metadata": {
        "id": "1-jvnmzMdwR5"
      },
      "execution_count": 33,
      "outputs": []
    },
    {
      "cell_type": "code",
      "execution_count": 34,
      "metadata": {
        "colab": {
          "base_uri": "https://localhost:8080/"
        },
        "id": "Z5FPkDhgVbSs",
        "outputId": "71e69c5b-3966-44e7-ea14-0dcfdaa8a777"
      },
      "outputs": [
        {
          "output_type": "stream",
          "name": "stderr",
          "text": [
            "/usr/local/lib/python3.10/dist-packages/sklearn/preprocessing/_encoders.py:868: FutureWarning: `sparse` was renamed to `sparse_output` in version 1.2 and will be removed in 1.4. `sparse_output` is ignored unless you leave `sparse` to its default value.\n",
            "  warnings.warn(\n",
            "/usr/local/lib/python3.10/dist-packages/sklearn/preprocessing/_encoders.py:868: FutureWarning: `sparse` was renamed to `sparse_output` in version 1.2 and will be removed in 1.4. `sparse_output` is ignored unless you leave `sparse` to its default value.\n",
            "  warnings.warn(\n"
          ]
        }
      ],
      "source": [
        "encoder = OneHotEncoder(sparse=False)\n",
        "train_data = train_data.reshape(len(train_data), -1)/255.0\n",
        "test_data = test_data.reshape(len(test_data), -1)/255.0\n",
        "train_labels = train_labels.numpy().reshape(-1, 1)\n",
        "train_labels = encoder.fit_transform(train_labels)\n",
        "test_labels = test_labels.numpy().reshape(-1, 1)\n",
        "test_labels = encoder.fit_transform(test_labels)"
      ]
    },
    {
      "cell_type": "code",
      "execution_count": 35,
      "metadata": {
        "id": "uWcgvv9QVbSt"
      },
      "outputs": [],
      "source": [
        "class NeuralNetwork:\n",
        "    def __init__(self, input_size, hidden_size, output_size):\n",
        "        self.W1 = np.random.randn(input_size, hidden_size)\n",
        "        self.b1 = np.zeros((1, hidden_size))\n",
        "        self.W2 = np.random.randn(hidden_size, output_size)\n",
        "        self.b2 = np.zeros((1, output_size))\n",
        "\n",
        "    def relu(self, x):\n",
        "        return np.maximum(0, x)\n",
        "\n",
        "    def softmax(self, x):\n",
        "        exp_values = np.exp(x - np.max(x, axis=1, keepdims=True))\n",
        "        return exp_values / np.sum(exp_values, axis=1, keepdims=True)\n",
        "\n",
        "    def forward(self, X):\n",
        "        self.z1 = np.dot(X, self.W1) + self.b1\n",
        "        self.a1 = self.relu(self.z1)\n",
        "        self.z2 = np.dot(self.a1, self.W2) + self.b2\n",
        "        self.a2 = self.softmax(self.z2)\n",
        "        return self.a2\n",
        "\n",
        "    def backward(self, X, y, learning_rate):\n",
        "        m = X.shape[0]\n",
        "\n",
        "        dz2 = self.a2 - y # d(Loss)/d(a2)\n",
        "        dW2 = (1 / m) * np.dot(self.a1.T, dz2) # d(Loss)/d(W2)\n",
        "        db2 = (1 / m) * np.sum(dz2, axis=0, keepdims=True) # d(Loss)/d(b2)\n",
        "\n",
        "        dz1 = np.dot(dz2, self.W2.T) * (self.z1 > 0) # d(Loss)/d(z1)\n",
        "        dW1 = (1 / m) * np.dot(X.T, dz1) # d(Loss)/d(w1)\n",
        "        db1 = (1 / m) * np.sum(dz1, axis=0, keepdims=True) # d(Loss)/d(b1)\n",
        "\n",
        "        self.W1 -= learning_rate * dW1\n",
        "        self.b1 -= learning_rate * db1\n",
        "        self.W2 -= learning_rate * dW2\n",
        "        self.b2 -= learning_rate * db2\n",
        "\n",
        "    def train(self, X, y, epochs, learning_rate):\n",
        "        for epoch in range(epochs):\n",
        "            predictions = self.forward(X)\n",
        "            loss = np.mean((predictions - y) ** 2) # MSE\n",
        "            self.backward(X, y, learning_rate)\n",
        "\n",
        "    def predict(self, X):\n",
        "        hidden_output = self.relu(np.dot(X, self.W1) + self.b1)\n",
        "        output = self.softmax(np.dot(hidden_output, self.W2) + self.b2)\n",
        "        return np.argmax(output, axis=1)\n"
      ]
    },
    {
      "cell_type": "code",
      "execution_count": 36,
      "metadata": {
        "colab": {
          "base_uri": "https://localhost:8080/"
        },
        "id": "veZwgQ0gVbSu",
        "outputId": "99213b8b-d861-4de2-fb7c-d0bcca9dad8e"
      },
      "outputs": [
        {
          "output_type": "stream",
          "name": "stdout",
          "text": [
            "Accuracy: 63.85999999999999%\n"
          ]
        }
      ],
      "source": [
        "input_size = train_data.shape[1]\n",
        "hidden_size = 512\n",
        "output_size = 10\n",
        "\n",
        "nn = NeuralNetwork(input_size, hidden_size, output_size)\n",
        "nn.train(train_data, train_labels, epochs=100, learning_rate=0.01)\n",
        "\n",
        "predictions = nn.forward(test_data)\n",
        "accuracy = np.mean(np.argmax(predictions, axis=1) == np.argmax(test_labels, axis=1))\n",
        "print(f\"Accuracy: {accuracy * 100}%\")"
      ]
    },
    {
      "cell_type": "code",
      "execution_count": 36,
      "metadata": {
        "id": "2PKLuGQDVbSu"
      },
      "outputs": [],
      "source": []
    }
  ],
  "metadata": {
    "kernelspec": {
      "display_name": "Python 3",
      "language": "python",
      "name": "python3"
    },
    "language_info": {
      "codemirror_mode": {
        "name": "ipython",
        "version": 3
      },
      "file_extension": ".py",
      "mimetype": "text/x-python",
      "name": "python",
      "nbconvert_exporter": "python",
      "pygments_lexer": "ipython3",
      "version": "3.11.6"
    },
    "colab": {
      "provenance": []
    }
  },
  "nbformat": 4,
  "nbformat_minor": 0
}